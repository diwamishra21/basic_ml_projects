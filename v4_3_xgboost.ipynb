{
 "cells": [
  {
   "cell_type": "code",
   "execution_count": null,
   "id": "2d9011ef-d536-4e53-9703-d70eb21fa467",
   "metadata": {
    "scrolled": true
   },
   "outputs": [],
   "source": [
    "# 📦 Import Required Libraries\n",
    "import pandas as pd\n",
    "import numpy as np\n",
    "from sklearn.model_selection import train_test_split\n",
    "from sklearn.metrics import classification_report, confusion_matrix\n",
    "from xgboost import XGBClassifier\n",
    "import matplotlib.pyplot as plt\n",
    "import seaborn as sns\n",
    "\n",
    "# 📥 Load Dataset\n",
    "df = pd.read_csv(\"exchange_dataset_enhanced.csv\")  # Replace with your actual file name\n",
    "df.head()\n",
    "\n",
    "\n",
    "# 🛠️ Optional Feature Engineering (adjust based on your dataset)\n",
    "if 'customer_age' in df.columns and 'customer_engagement_score' in df.columns:\n",
    "    df['engagement_to_age_ratio'] = df['customer_engagement_score'] / (df['customer_age'] + 1)\n",
    "\n",
    "# 🧼 Handle missing values (basic strategy)\n",
    "df.dropna(inplace=True)\n",
    "\n",
    "# 🧠 Define Features and Target\n",
    "X = df.drop('exchange', axis=1)\n",
    "y = df['exchange']\n",
    "\n",
    "# 🧪 Train-Test Split\n",
    "X_train, X_test, y_train, y_test = train_test_split(\n",
    "    X, y, test_size=0.2, random_state=42, stratify=y\n",
    ")\n",
    "\n",
    "# 🚀 Train XGBoost Model\n",
    "model = XGBClassifier(use_label_encoder=False, eval_metric='logloss', random_state=42)\n",
    "model.fit(X_train, y_train)\n",
    "\n",
    "# 🔍 Predictions\n",
    "y_pred = model.predict(X_test)\n",
    "\n",
    "# 📊 Evaluation\n",
    "print(\"\\n📊 Classification Report for XGBoost:\")\n",
    "print(classification_report(y_test, y_pred))\n",
    "\n",
    "print(\"\\n🧮 Confusion Matrix for XGBoost:\")\n",
    "cm = confusion_matrix(y_test, y_pred)\n",
    "sns.heatmap(cm, annot=True, fmt='d', cmap='Blues')\n",
    "plt.xlabel(\"Predicted\")\n",
    "plt.ylabel(\"Actual\")\n",
    "plt.title(\"Confusion Matrix - XGBoost\")\n",
    "plt.show()\n",
    "\n",
    "# 📈 Optional: Feature Importance Plot\n",
    "importances = model.feature_importances_\n",
    "feat_names = X.columns\n",
    "feat_imp = pd.Series(importances, index=feat_names).sort_values(ascending=False)\n",
    "\n",
    "plt.figure(figsize=(10, 6))\n",
    "sns.barplot(x=feat_imp, y=feat_imp.index)\n",
    "plt.title(\"Feature Importances (XGBoost)\")\n",
    "plt.show()\n"
   ]
  },
  {
   "cell_type": "code",
   "execution_count": null,
   "id": "65df13e9-e5e3-406d-acc5-a17877513c8d",
   "metadata": {},
   "outputs": [],
   "source": []
  }
 ],
 "metadata": {
  "kernelspec": {
   "display_name": "Python 3 (ipykernel)",
   "language": "python",
   "name": "python3"
  },
  "language_info": {
   "codemirror_mode": {
    "name": "ipython",
    "version": 3
   },
   "file_extension": ".py",
   "mimetype": "text/x-python",
   "name": "python",
   "nbconvert_exporter": "python",
   "pygments_lexer": "ipython3",
   "version": "3.11.11"
  }
 },
 "nbformat": 4,
 "nbformat_minor": 5
}
