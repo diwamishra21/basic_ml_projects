{
 "cells": [
  {
   "cell_type": "code",
   "execution_count": 1,
   "id": "3a2847ce-5a08-48e4-9b9e-658c1b573bba",
   "metadata": {},
   "outputs": [
    {
     "data": {
      "text/plain": [
       "vehicle_age                  200000\n",
       "vehicle_condition_score      200000\n",
       "trade_in_history             200000\n",
       "incentive_received           200000\n",
       "mileage                      200000\n",
       "customer_engagement_score    200000\n",
       "exchange                     200000\n",
       "vehicle_age_squared          200000\n",
       "is_high_mileage              200000\n",
       "engagement_to_age_ratio      200000\n",
       "dtype: int64"
      ]
     },
     "execution_count": 1,
     "metadata": {},
     "output_type": "execute_result"
    }
   ],
   "source": [
    "import pandas as pd\n",
    "import numpy as np\n",
    "from sklearn.model_selection import train_test_split\n",
    "from sklearn.ensemble import RandomForestClassifier\n",
    "from sklearn.metrics import classification_report, confusion_matrix\n",
    "from sklearn.preprocessing import StandardScaler\n",
    "from imblearn.over_sampling import SMOTE\n",
    "\n",
    "# 📥 1. Load enhanced dataset\n",
    "df = pd.read_csv(\"exchange_dataset_enhanced.csv\")\n",
    "\n",
    "# 🧹 2. Handle any missing values\n",
    "df = df.dropna()\n",
    "df.count()"
   ]
  },
  {
   "cell_type": "code",
   "execution_count": null,
   "id": "b9878cb4-d926-4c79-814b-baa541e93f30",
   "metadata": {},
   "outputs": [],
   "source": [
    "\n",
    "# 🎯 3. Define features and target\n",
    "features = [\n",
    "    \"vehicle_age\", \n",
    "    \"vehicle_condition_score\", \n",
    "    \"trade_in_history\", \n",
    "    \"incentive_received\", \n",
    "    \"mileage\", \n",
    "    \"customer_engagement_score\",\n",
    "    \"vehicle_age_squared\", \n",
    "    \"is_high_mileage\", \n",
    "    \"engagement_to_age_ratio\"\n",
    "]\n",
    "X = df[features]\n",
    "y = df[\"exchange\"]\n",
    "\n",
    "# 🧪 4. Train-Test Split\n",
    "X_train, X_test, y_train, y_test = train_test_split(X, y, test_size=0.2, random_state=42)\n",
    "\n",
    "# ⚖️ 5. Handle class imbalance using SMOTE\n",
    "smote = SMOTE(random_state=42)\n",
    "X_train_bal, y_train_bal = smote.fit_resample(X_train, y_train)\n",
    "\n",
    "# 📏 6. Scale features (recommended for some models, optional for RandomForest)\n",
    "scaler = StandardScaler()\n",
    "X_train_scaled = scaler.fit_transform(X_train_bal)\n",
    "X_test_scaled = scaler.transform(X_test)\n",
    "\n",
    "# 🤖 7. Train Model\n",
    "model = RandomForestClassifier(n_estimators=100, random_state=42)\n",
    "model.fit(X_train_scaled, y_train_bal)\n",
    "\n",
    "# 🔮 8. Predict and Evaluate\n",
    "y_pred = model.predict(X_test_scaled)\n",
    "\n",
    "# 🧾 9. Evaluation\n",
    "print(\"\\n📊 Classification Report:\")\n",
    "print(classification_report(y_test, y_pred))\n",
    "\n",
    "print(\"\\n🧮 Confusion Matrix:\")\n",
    "print(confusion_matrix(y_test, y_pred))\n"
   ]
  },
  {
   "cell_type": "code",
   "execution_count": null,
   "id": "5eccba1a-d149-4885-bf6a-1b1ee2d503c3",
   "metadata": {},
   "outputs": [],
   "source": []
  }
 ],
 "metadata": {
  "kernelspec": {
   "display_name": "Python 3 (ipykernel)",
   "language": "python",
   "name": "python3"
  },
  "language_info": {
   "codemirror_mode": {
    "name": "ipython",
    "version": 3
   },
   "file_extension": ".py",
   "mimetype": "text/x-python",
   "name": "python",
   "nbconvert_exporter": "python",
   "pygments_lexer": "ipython3",
   "version": "3.11.11"
  }
 },
 "nbformat": 4,
 "nbformat_minor": 5
}
